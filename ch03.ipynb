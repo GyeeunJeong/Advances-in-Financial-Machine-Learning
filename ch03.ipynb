{
  "nbformat": 4,
  "nbformat_minor": 0,
  "metadata": {
    "colab": {
      "name": "Untitled2.ipynb",
      "provenance": [],
      "authorship_tag": "ABX9TyOpfy2+Qnx5Uu9PB1JEKi2Q",
      "include_colab_link": true
    },
    "kernelspec": {
      "name": "python3",
      "display_name": "Python 3"
    }
  },
  "cells": [
    {
      "cell_type": "markdown",
      "metadata": {
        "id": "view-in-github",
        "colab_type": "text"
      },
      "source": [
        "<a href=\"https://colab.research.google.com/github/GyeeunJeong/Advances-in-Financial-Machine-Learning/blob/master/ch03.ipynb\" target=\"_parent\"><img src=\"https://colab.research.google.com/assets/colab-badge.svg\" alt=\"Open In Colab\"/></a>"
      ]
    },
    {
      "cell_type": "markdown",
      "metadata": {
        "id": "4-cXuQORxJ6O",
        "colab_type": "text"
      },
      "source": [
        "# Source code in chapter 3"
      ]
    },
    {
      "cell_type": "code",
      "metadata": {
        "id": "9Q4_mYHlxO_a",
        "colab_type": "code",
        "colab": {}
      },
      "source": [
        "# 3.1 Calculate daily volatility\n",
        "def getDailyVol(close, span0=100):\n",
        "  df0 = close.index.searchsorted(close.index-pd.Timedelta(days=1))\n",
        "  df0 = df0[df0>0]\n",
        "  df0 = pd.Series(close.index[df0-1], index=close.index[close.shape[0]-df0.shape[0]:])\n",
        "  df0 = close.loc[df0.index]/close.loc[df0.values].values-1\n",
        "  df0 = df0.ewm(span=span0).std()\n",
        "  return df0\n",
        "\n",
        "# 3.2 triple-barrier labeling\n",
        "def applyPtSlonT1(close, events, ptsl, molecule):\n",
        "  # t1 : vertical barrier\n",
        "  # pt : upper horizontal barrier\n",
        "  # sl : lower horizontal barrier\n",
        "\n",
        "  events_ = evnets.loc[molecule]\n",
        "  out = events_[['t1]].copy(deep=True)\n",
        "  \n",
        "  if ptsl[0]>0: pt=ptsl[0]*events_['trgt']\n",
        "  else: pt = pd.Series(index=events.index) # NaNs\n",
        "  if ptsl[1]>0: sl=-ptsl[1]*events_['trgt']\n",
        "  else: sl = pd.Series(index=events.index) # NaNs\n",
        "  \n",
        "  for loc,t1 in events_['t1'].fillna(close.index[-1]).iteritems():\n",
        "    df0 = close[loc:t1] # price path\n",
        "    df0 = (df0/close[loc]-1)*events_.at[loc, 'side']\n",
        "    out.loc[loc, 'sl'] = df0[df0<sl[loc]].index.min()\n",
        "    out.loc[loc, 'pt'] = df0[df0>pt[loc]].index.min()\n",
        "    \n",
        "  return out\n"
      ],
      "execution_count": 0,
      "outputs": []
    },
    {
      "cell_type": "code",
      "metadata": {
        "id": "pGfAmpExxNpP",
        "colab_type": "code",
        "colab": {}
      },
      "source": [
        ""
      ],
      "execution_count": 0,
      "outputs": []
    }
  ]
}